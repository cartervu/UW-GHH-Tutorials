{
 "cells": [
  {
   "cell_type": "markdown",
   "metadata": {},
   "source": [
    "# Generic Heavy Higgs Tutorial\n",
    "#### By Carter Vu at the University of Washington\n",
    "#### Dated 3/23/2020"
   ]
  },
  {
   "cell_type": "markdown",
   "metadata": {},
   "source": [
    "Welcome to the Generic Heavy Higgs (GHH) project! Our focus is the theorized generic heavy higgs boson, and we aim to simulate its behavior and its production in order to better understand how we might be able to find it in LHC experiments. The arxiv paper is here:\n",
    "\n",
    "https://arxiv.org/abs/1905.05421\n",
    "\n",
    "This project makes use of several softwares:\n",
    "- Madgraph5 (MG5_AMC@NLO), a software that generates random particle collision event data\n",
    "- Pythia 8, a software that simulates parton showering\n",
    "- Delphes, a software that simulates detector response\n",
    "- PyRoot, UpRoot, C++, or SciKitLearn (your choice) for macro-based analysis\n",
    "\n",
    "\n",
    "In this tutorial, we'll cover each of these in detail and show you how to reproduce some of the graphs from the GHH paper. The tutorial only expects that you know a bit about how to use the shell, and should be pretty beginner friendly. Note that it has not been tested for linux users.\n",
    "\n",
    "If anything seems especially confusing, you can investigate the sources at the bottom of this tutorial to try and gain some more intuition (they might be dated!), or reach out to me with questions and corrections (email cartervu@uw.edu, skype online Carter Vu)."
   ]
  },
  {
   "cell_type": "markdown",
   "metadata": {},
   "source": [
    "# Madgraph5\n",
    "\n",
    "Madgraph is a software that generates random particle collision data based on the types of collisions you tell it to simulate. \n",
    "\n",
    "## Installing Madgraph5 and Build Prerequisites\n",
    "\n",
    "Before you download anything, you'll want to create a directory for all the software we'll be donwloading (let's call it \"Software\"). Check that the folder isn't in a location where it's being saved to the cloud (i.e. desktop on macs), since that can get expensive fast.\n",
    "\n",
    "In order to run madgraph, you'll need a version of python 2 equal to or higher than 2.6. and ROOT, which in turn requires xcode and xcode command line tools.\n",
    "\n",
    "If you installed Anaconda with python 2, this should work just fine. \n",
    "\n",
    "The root build prerequisites can be found here: https://root.cern.ch/build-prerequisites#macosx. As they might vary from time to time, I am hesitant to give a list here that might become out of date, so check the website and follow their instructions for the prerequisite instructions.\n",
    "\n",
    "ROOT can be installed from https://root.cern.ch/downloading-root. Click on the \"pro\" version at the bottom of the page and download the appropriate tarball. If there is a command instead (probably starting with \"curl\", then copy that into your shell and run it). DO NOT INSTALL CMAKE AND ATTEMPT TO BUILD ROOT LOCALLY AS THIS IS A MASSIVE WASTE OF TIME.\n",
    "\n",
    "Now we can download madgraph5. The download is here:\n",
    "\n",
    "http://madgraph.physics.illinois.edu/\n",
    "\n",
    "You can make an account for free at the madgraph website and download it from the \"downloads (needs account)\" tab.* Next, move the tarball into your software directory and untar it by using \"tar -xvf MadGraph5 v1.4.4.tar.gz\" in the shell.\n",
    "\n",
    "If you're interested: the x means you're untaring it (c will create a tarball), and the v means you want to monitor the process. More information on options can be found here: https://www.quora.com/What-does-f-mean-in-terminal.\n",
    "\n",
    "cd into your new madgraph directory (should be named something like \"MG5_aMC_v2_6_7\") and ls to look at all the folders. Look around, just to get a basic sense of what's going on. It's ok if you don't understand anything yet, just hold on!\n",
    "\n",
    "Check to see that it's installed correctly by using \"./bin/mg5_aMC\" from your madgraph folder.** If it works, you can then use \"exit\" to exit back to the shell.\n",
    "\n",
    "Now if it doesn't work (and it likely won't), go to https://github.com/davidchall/homebrew-hep and read through the README, before installing ruby and homebrew and letting homebrew install everything else for you.\n",
    "\n",
    "#### Footnotes\n",
    "\n",
    "*Note that it only works on mac and linux (and potentially some other linux-based OS's). Windows users should try using a virtual machine or look into grabbing a new laptop from the Student Tech Loan program. \n",
    "\n",
    "** Note that this won't work from a different folder or from the bin itself. Can you see why?"
   ]
  },
  {
   "cell_type": "markdown",
   "metadata": {},
   "source": [
    "## Tutorial time!\n",
    "\n",
    "Now that you've installed madgraph, open the program back up with \"./bin/mg5_aMC\" and type \"tutorial\" to start the tutorial. Follow their steps to produce data for the p p > t t~ event. When it prompts you the first time, press 0 to only use madevent, the default option, for calculating the cross section. When it prompts you the second time, press 0 to not edit any of the cards. \n",
    "\n",
    "These cards control the assumptions of the program. In particular, proc_card.dat details the physics process you're looking at (like p p > t t~). param_card.dat controls the model parameters (such as the standard model, higgs effective field theory, or the GHH model) and run_card.dat controls the run parameters (like how many events you want to produce) and the kinematical cuts (i.e. only want to include protons if they have momentum greater than 1 GeV). Madgraph works in GeV, see these links for details: \n",
    "\n",
    "https://en.wikipedia.org/wiki/Electronvolt\n",
    "https://twiki.cern.ch/twiki/bin/view/Main/LearningMadGraph\n",
    "\n",
    "After you output a file and successfully launch it, a browser should open and start filling in a single row of a basic spreadsheet. This browser window will store all the details of the process and event generation for each run you launch for that output file. If the browser doesn't open, use \"open index.html\" from the output file directory.\n",
    "\n",
    "Click on the cross section to see the contribution of each process.\n",
    "\n",
    "Click \"Main Page\" to navigate back to the menu, and click \"process information\" and \"postscript\" to look at the feynman diagrams for the process you just generated. There should be two process (P1_qq_ttx and P1_gg_ttx) with a total of 4 independent diagrams.\n",
    "\n",
    "Now, go back and look at the param_card and the run_card in the cards directory. Try to understand the basics of what each of them do, and choose some new parameters and see what happens to the cross-section of each piece!"
   ]
  },
  {
   "cell_type": "markdown",
   "metadata": {},
   "source": [
    "## Syntax\n",
    "\n",
    "Now that you've generated a basic process, take a quick peek through these articles and try to understand what you've accomplished:\n",
    "\n",
    "http://madgraph.phys.ucl.ac.be/sm_particles.html\n",
    "\n",
    "http://madgraph.phys.ucl.ac.be/EXAMPLES/example_mg5.html\n",
    "\n",
    "https://www.niu.edu/spmartin/madgraph/madsyntax.html\n",
    "\n",
    "If you guessed that you simulated a set of collisions between two protons that resulted  in a top quark and an antitop quark, you'd be right!"
   ]
  },
  {
   "cell_type": "markdown",
   "metadata": {},
   "source": [
    "## Loading a Model\n",
    "\n",
    "Now that we know how to create an event and define its parameters, we could manually switch all the parameters at the start of each run to match our model and our desired cuts. Instead, however, we can use a model to define some of these parameters for us. \n",
    "\n",
    "By default, madgraph5 versions 2.4.3 and above use the standard model, and come with several downloadable models you can download with the command \"import model (model name)\" in madgraph, such as MSSM_SLHA2 (the minimal supersymmetric standard model under the supersymmetry les houches accords version 2, https://arxiv.org/abs/0801.0045), HEFT (higgs effective field theory), and many more. Each model is an implementation of a theory of what new physics looks like, which can be used to simulate data from the LHC that can be checked against actual data to test the model's validity.\n",
    "\n",
    "You can manually change some model parameters with the command \"customize_model,\" and even make your own, but you won't need to do that for quite some time.\n",
    "\n",
    "For now, let's try using a model whose components should be relatively straightforward to understand, higgs effective field theory (HEFT). In madgraph, type \"import model heft\" and it should produce some new particles. Try generating the process p p > z h, z > vl vl~, h > a a\n",
    "\n",
    "Can you see why we wouldn't be able to generate this process in the standard model MSSM_SLHA2? If not, try using the commands \"display particles,\" \"display multiparticles,\"  and \"display interactions\" to see what particles and interactions are defined, then use \"import model sm\" to go back to the standard model and check what particles and interactions are defined there.\n",
    "\n",
    "One helpful tip here is that you can use the command \"history (filename).dat\" to write all the commands you've used in a session to a file for future reference.\n",
    "\n",
    "Ouptut the physics process to a file (output (filename)) then use \"launch (filename)\", pick some parameters in your cards, and see what happens."
   ]
  },
  {
   "cell_type": "markdown",
   "metadata": {},
   "source": [
    "## Working with the GHH\n",
    "\n",
    "Now that you know some madgraph basics, let's try working with the model built for the theory behind the GHH. \n",
    "\n",
    "Go to https://github.com/xuyue1231/MG5-heavy-Higgs/tree/master and click on the green button in the top right that says \"clone or download.\" Copy the link. Next, go to your terminal and cd into your \"Software\" folder. Type \"git clone (link you copied).\" See https://help.github.com/en/github/creating-cloning-and-archiving-repositories/cloning-a-repository for details.\n",
    "\n",
    "\n",
    "Next, cd into the folder you just created with the git clone command and move the folder \"SMwithHeavyScalarDim4Dim6_NoDecay_UFO\" into the \"models\" directory of your madgraph install. Then type \"import model SMwithHeavyScalarDim4Dim6_NoDecay_UFO.\"\n",
    "\n",
    "Next, to follow the steps of the GHH paper, copy the following 10 commands into madgraph:\n",
    "\n",
    "generate p p > z hh, z > l- l+, hh > j j j j\n",
    "\n",
    "add process p p > z hh, z > j j, hh > l- l+ j j\n",
    "\n",
    "add process p p > w- hh, w- > j j, hh > l- l+ j j\n",
    "\n",
    "add process p p > w+ hh, w+ > j j, hh > l- l+ j j\n",
    "\n",
    "add process p p > z hh, z > l- l+, hh > l- vl~ j j\n",
    "\n",
    "add process p p > z hh, z > l- l+, hh > l+ vl j j\n",
    "\n",
    "add process p p > w- hh, w- > l- vl~, hh > l- l+ j j\n",
    "\n",
    "add process p p > w+ hh, w+ > l+ vl, hh > l- l+ j j\n",
    "\n",
    "add process p p > w- hh, w- > l- vl~, hh > l- vl~ j j\n",
    "\n",
    "add process p p > w+ hh, w+ > l+ vl, hh > l+ vl j j\n",
    "\n",
    "Then output it to a folder (I'll call it \"Reproduce_GHH_Attmempt_1\") and run it with the default parameters. Poke around in the html file to try to understand some of your results.\n",
    "\n",
    "What we've done here is generate 10 processes within the GHH model and compute the cross section of each process. The total cross section should be somewhere around 8.35 pb within a margin of 0.05.\n",
    "\n",
    "Congratulations! You have now generated some basic collision data in the GHH model and completed the first step towards reproducing the graphs from the GHH paper."
   ]
  },
  {
   "cell_type": "markdown",
   "metadata": {},
   "source": [
    "# Pythia8"
   ]
  },
  {
   "cell_type": "markdown",
   "metadata": {},
   "source": [
    "# Delphes"
   ]
  },
  {
   "cell_type": "markdown",
   "metadata": {},
   "source": [
    "# Pyroot, Uproot, SciKitLearn, and Macro-Based Analysis"
   ]
  },
  {
   "cell_type": "markdown",
   "metadata": {},
   "source": [
    "# Sources\n",
    "\n",
    "http://madgraph.physics.illinois.edu/\n",
    "    \n",
    "https://www.physics.sjtu.edu.cn/madgraphschool/index.php?q=node/29\n",
    "    \n",
    "https://cp3.irmp.ucl.ac.be/projects/delphes/wiki/WorkBook/TutorialBologna\n",
    "    \n",
    "https://physics.stackexchange.com/questions/403020/what-are-next-to-leading-order-nlo-corrections\n",
    "\n",
    "https://indico.ihep.ac.cn/event/7822/contribution/19/material/slides/0.pdf\n",
    "    \n",
    "http://www.phys.ufl.edu/~matchev/StandardModel/mg5_tutorial.pdf\n",
    "\n",
    "https://en.wikipedia.org/wiki/Electronvolt\n",
    "\n",
    "https://twiki.cern.ch/twiki/bin/view/CMSPublic/MadgraphTutorial\n",
    "\n",
    "https://www.niu.edu/spmartin/madgraph/\n",
    "    \n",
    "https://www.niu.edu/spmartin/madgraph/madtutor.html\n",
    "\n",
    "https://www.niu.edu/spmartin/madgraph/madsyntax.html\n",
    "\n",
    "https://github.com/davidchall/homebrew-hep\n",
    "    \n",
    "http://home.thep.lu.se/~torbjorn/pythia82html/MadGraph5Processes.html\n",
    "\n",
    "https://www-numi.fnal.gov/offline_software/srt_public_context/WebDocs/Companion/first_steps/macros.html\n",
    "\n",
    "http://susy.phsx.ku.edu/~kckong/KWS2014/KWS2014.pdf\n",
    "\n",
    "http://madgraph.phys.ucl.ac.be/EXAMPLES/example_mg5.html"
   ]
  },
  {
   "cell_type": "markdown",
   "metadata": {},
   "source": []
  },
  {
   "cell_type": "markdown",
   "metadata": {},
   "source": []
  }
 ],
 "metadata": {
  "kernelspec": {
   "display_name": "Python 2",
   "language": "python",
   "name": "python2"
  },
  "language_info": {
   "codemirror_mode": {
    "name": "ipython",
    "version": 2
   },
   "file_extension": ".py",
   "mimetype": "text/x-python",
   "name": "python",
   "nbconvert_exporter": "python",
   "pygments_lexer": "ipython2",
   "version": "2.7.16"
  }
 },
 "nbformat": 4,
 "nbformat_minor": 2
}
